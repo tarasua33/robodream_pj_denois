{
 "cells": [
  {
   "cell_type": "code",
   "execution_count": 1,
   "id": "93dce7ca-3e15-4264-81a0-1fc373f34f1e",
   "metadata": {},
   "outputs": [],
   "source": [
    "import os\n",
    "import cv2\n",
    "import random\n",
    "import numpy as np\n",
    "from matplotlib import pyplot as plt\n",
    "plt.rcParams['figure.figsize'] = [15, 10]"
   ]
  },
  {
   "cell_type": "code",
   "execution_count": 3,
   "id": "8e3f9cbc-fc1b-45db-a853-706092fc3cde",
   "metadata": {},
   "outputs": [
    {
     "name": "stdout",
     "output_type": "stream",
     "text": [
      "10553\n"
     ]
    }
   ],
   "source": [
    "# root = \"./dif_data/archive/train_zip/train/\"\n",
    "size_w = 128\n",
    "img_size = (size_w, size_w)\n",
    "root = \"../dif_data/archive_ani/DUTS-TR/DUTS-TR-Image/\"\n",
    "root_target = \"./data/target_img_rgb/\"\n",
    "\n",
    "def preprocces_target_data(root, root_target, img_size):\n",
    "    name = \"image\"\n",
    "    input_img_paths = [f for f in os.listdir(root) if f.endswith(\".jpg\")]\n",
    "    \n",
    "    # img = cv2.cvtColor(cv2.imread(root + input_img_paths[10]), cv2.COLOR_BGR2GRAY)\n",
    "    # print(img.shape[0])\n",
    "    # plt.subplot(121), plt.imshow(img, cmap='gray')\n",
    "    \n",
    "    i = 0\n",
    "    for ii in range(len(input_img_paths)):\n",
    "        # img = cv2.cvtColor(cv2.imread(root + input_img_paths[ii]), cv2.COLOR_BGR2GRAY)\n",
    "        img = cv2.imread(root + input_img_paths[ii])\n",
    "        img = cv2.resize(img, img_size)\n",
    "        # if(img.shape[0] > img.shape[1]):\n",
    "        #     img = cv2.rotate(img, cv2.ROTATE_90_CLOCKWISE)\n",
    "        \n",
    "        cv2.imwrite(root_target + name + str(i) + \".jpg\", img) # Save the image\n",
    "        i += 1\n",
    "        \n",
    "        # flipped0 = cv2.flip(img, 0)\n",
    "        # cv2.imwrite(root_target + name + str(i) + \".jpg\", flipped0) # Save the image\n",
    "        # i += 1\n",
    "        \n",
    "        # flipped1 = cv2.flip(img, 1)\n",
    "        # cv2.imwrite(root_target + name + str(i) + \".jpg\", flipped1) # Save the image\n",
    "        # i += 1\n",
    "        \n",
    "        # flipped2 = cv2.flip(img, -1)\n",
    "        # cv2.imwrite(root_target + name + str(i) + \".jpg\", flipped2) # Save the image\n",
    "        # i += 1\n",
    "        # cv2.destroyAllWindows() # Destroy all windows\n",
    "    \n",
    "    print(len(input_img_paths))\n",
    "\n",
    "preprocces_target_data(root, root_target, img_size)\n"
   ]
  },
  {
   "cell_type": "code",
   "execution_count": 4,
   "id": "35858fd8-8c77-4513-af4d-3f5ece371291",
   "metadata": {},
   "outputs": [],
   "source": [
    "def noize_img(img):\n",
    "    img = img / 255.0\n",
    "    noise_factor = 0.2\n",
    "    noisy_img = img + noise_factor * np.random.normal(loc=0.0, scale=1, size=img.shape)\n",
    "    noisy_img = np.clip(noisy_img, 0.0, 1.0)\n",
    "\n",
    "    if random.randint(0, 50) == 1:    \n",
    "        start = random.randint(0, size_w/2);\n",
    "        rand_line = random.randint(3, 10);\n",
    "        rand_width = random.randint(2, 5);\n",
    "        rand_dist = random.randint(6, 10);\n",
    "        \n",
    "        for i in range(0, rand_line, 1):\n",
    "            type = random.randint(0, 1)\n",
    "            if type == 0:\n",
    "                noisy_img[random.randint(0, size_w/2) : random.randint(size_w/2, size_w), start + rand_dist * i : start + rand_dist * i + rand_width] = random.randint(0, 1)\n",
    "            elif type == 1:\n",
    "                noisy_img[start + rand_dist * i : start + rand_dist * i + rand_width, random.randint(0, size_w/2) : random.randint(size_w/2, size_w)] = random.randint(0, 1)\n",
    "\n",
    "    noisy_img = np.rint(noisy_img * 255)\n",
    "\n",
    "    return noisy_img"
   ]
  },
  {
   "cell_type": "code",
   "execution_count": 5,
   "id": "ddfa4085-fc3d-4947-a31f-13da99090c0b",
   "metadata": {},
   "outputs": [
    {
     "name": "stdout",
     "output_type": "stream",
     "text": [
      "end\n"
     ]
    }
   ],
   "source": [
    "# root_target = \"./dif_data/all_img/\"\n",
    "root_training = \"./data/training_img_rgb/\"\n",
    "\n",
    "def prprocces_train_data(root_target, root_training):\n",
    "    input_target_paths = [f for f in os.listdir(root_target) if f.endswith(\".jpg\")]\n",
    "\n",
    "    # noisy_img\n",
    "    for ii in range(len(input_target_paths)):\n",
    "        img = cv2.imread(root_target + input_target_paths[ii])\n",
    "        noisy_img = noize_img(img)\n",
    "        cv2.imwrite(root_training + input_target_paths[ii], noisy_img) # Save the image\n",
    "    \n",
    "    print(\"end\")\n",
    "\n",
    "prprocces_train_data(root_target, root_training)\n",
    "# plt.subplot(121), plt.imshow(noisy_img, cmap='gray')\n",
    "# plt.subplot(122), plt.imshow(img, cmap='gray')"
   ]
  },
  {
   "cell_type": "code",
   "execution_count": 6,
   "id": "45668a53-802e-459c-9d7d-dc54f139066d",
   "metadata": {},
   "outputs": [],
   "source": [
    "def preprocces_test_data(root_assets, root_renamed, root_test, img_size):\n",
    "    name = \"image\"\n",
    "    input_img_paths = [f for f in os.listdir(root_assets) if f.endswith(\".jpg\")]\n",
    "    \n",
    "    i = 0\n",
    "    for ii in range(len(input_img_paths)):\n",
    "        img = cv2.imread(root_assets + input_img_paths[ii])\n",
    "        cv2.imwrite(root_renamed + name + str(i) + \".jpg\", img) # Save the image\n",
    "\n",
    "        img = cv2.resize(img, img_size)\n",
    "        # img = cv2.cvtColor(img, cv2.COLOR_BGR2GRAY)\n",
    "        noisy_img = noize_img(img)\n",
    "        \n",
    "        cv2.imwrite(root_test + name + str(i) + \".jpg\", noisy_img) # Save the image\n",
    "        i += 1\n",
    "        \n",
    "    print(\"end\")"
   ]
  },
  {
   "cell_type": "code",
   "execution_count": 7,
   "id": "675c2cde-6c8f-4b46-84ab-3180895b01db",
   "metadata": {},
   "outputs": [
    {
     "name": "stdout",
     "output_type": "stream",
     "text": [
      "end\n"
     ]
    }
   ],
   "source": [
    "root_assets = \"../dif_data/archive_ani/DUTS-TE/DUTS-TE-Image/\"\n",
    "root_test = \"./data/test_img_rgb/\"\n",
    "root_renamed = \"./data/test_origin_rgb/\"\n",
    "# img_size = (200, 200)\n",
    "\n",
    "preprocces_test_data(root_assets, root_renamed, root_test, (size_w,size_w))"
   ]
  },
  {
   "cell_type": "code",
   "execution_count": null,
   "id": "25215c41-3469-4d99-8f9f-7247898b6a22",
   "metadata": {},
   "outputs": [],
   "source": []
  }
 ],
 "metadata": {
  "kernelspec": {
   "display_name": "Python 3 (ipykernel)",
   "language": "python",
   "name": "python3"
  },
  "language_info": {
   "codemirror_mode": {
    "name": "ipython",
    "version": 3
   },
   "file_extension": ".py",
   "mimetype": "text/x-python",
   "name": "python",
   "nbconvert_exporter": "python",
   "pygments_lexer": "ipython3",
   "version": "3.11.7"
  }
 },
 "nbformat": 4,
 "nbformat_minor": 5
}
